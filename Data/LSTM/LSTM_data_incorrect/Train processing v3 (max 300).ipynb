{
 "cells": [
  {
   "cell_type": "code",
   "execution_count": 1,
   "id": "4230cc63",
   "metadata": {},
   "outputs": [],
   "source": [
    "import pandas as pd\n",
    "import os\n",
    "import glob\n",
    "import numpy as np"
   ]
  },
  {
   "cell_type": "code",
   "execution_count": 2,
   "id": "d007da53",
   "metadata": {},
   "outputs": [],
   "source": [
    "for filename in glob.glob(\"*.csv\"):\n",
    "    data = pd.read_csv(filename)\n",
    "    \n",
    "    num_of_measures = data.shape[0]\n",
    "    \n",
    "    if num_of_measures%300 == 0:\n",
    "        split_num = np.floor(num_of_measures/300)-1\n",
    "    else:\n",
    "        split_num = np.floor(num_of_measures/300)\n",
    "    \n",
    "    split_num = int(split_num)\n",
    "    \n",
    "    if split_num == 0:\n",
    "        data.to_csv (\"~/Documents/Uni stuff/Engineering Science/3YP/dataset/Processed data v3/processed_train_v3/\"+filename, index = False, header=True)\n",
    "    else:\n",
    "        count = 0\n",
    "        for i in range(int(split_num)+1):\n",
    "            df = data.iloc[:count+300, :]\n",
    "            filename1 = filename.replace('.csv','')\n",
    "            df.to_csv (\"~/Documents/Uni stuff/Engineering Science/3YP/dataset/Processed data v3/processed_train_v3/\"+filename1+str(i)+'.csv', index = False, header=True)"
   ]
  },
  {
   "cell_type": "code",
   "execution_count": null,
   "id": "d22f66c6",
   "metadata": {},
   "outputs": [],
   "source": []
  }
 ],
 "metadata": {
  "kernelspec": {
   "display_name": "Python 3",
   "language": "python",
   "name": "python3"
  },
  "language_info": {
   "codemirror_mode": {
    "name": "ipython",
    "version": 3
   },
   "file_extension": ".py",
   "mimetype": "text/x-python",
   "name": "python",
   "nbconvert_exporter": "python",
   "pygments_lexer": "ipython3",
   "version": "3.8.8"
  }
 },
 "nbformat": 4,
 "nbformat_minor": 5
}
