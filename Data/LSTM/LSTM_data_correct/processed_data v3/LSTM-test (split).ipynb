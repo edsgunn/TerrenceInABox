{
 "cells": [
  {
   "cell_type": "code",
   "execution_count": 37,
   "id": "5eee1b97",
   "metadata": {},
   "outputs": [],
   "source": [
    "import pandas as pd\n",
    "import os\n",
    "import glob\n",
    "import numpy as np\n",
    "import math"
   ]
  },
  {
   "cell_type": "code",
   "execution_count": 55,
   "id": "0d4a21b6",
   "metadata": {},
   "outputs": [],
   "source": [
    "for filename in glob.glob(\"*.csv\"):\n",
    "    data = pd.read_csv(filename)\n",
    "    \n",
    "    sequence_length = 30\n",
    "    min_length = 20\n",
    "\n",
    "    num_of_measures = data.shape[0]\n",
    "\n",
    "    num_of_files = math.ceil(num_of_measures/sequence_length)\n",
    "\n",
    "    last_measure = num_of_measures%sequence_length\n",
    "\n",
    "    for i in range(num_of_files-1):\n",
    "        count = i*sequence_length\n",
    "        df = data.iloc[count:count+sequence_length,:]\n",
    "        filename1 = filename.replace('.csv','')\n",
    "        df.to_csv (\"~/Documents/Uni stuff/Engineering Science/3YP/dataset/LSTM/LSTM/Corrected data for LSTM/processed_test v3/\"+filename1+str(i)+'.csv', index = False, header=True)\n",
    "\n",
    "    if last_measure >= min_length:\n",
    "        i+=1\n",
    "        count = i*sequence_length\n",
    "        df = data.iloc[count:,:]\n",
    "        df.to_csv (\"~/Documents/Uni stuff/Engineering Science/3YP/dataset/LSTM/LSTM/Corrected data for LSTM/processed_test v3/\"+filename1+str(i)+'.csv', index = False, header=True)\n",
    "\n",
    "\n",
    "\n",
    "\n",
    "\n",
    "\n"
   ]
  }
 ],
 "metadata": {
  "kernelspec": {
   "display_name": "Python 3",
   "language": "python",
   "name": "python3"
  },
  "language_info": {
   "codemirror_mode": {
    "name": "ipython",
    "version": 3
   },
   "file_extension": ".py",
   "mimetype": "text/x-python",
   "name": "python",
   "nbconvert_exporter": "python",
   "pygments_lexer": "ipython3",
   "version": "3.8.8"
  }
 },
 "nbformat": 4,
 "nbformat_minor": 5
}
