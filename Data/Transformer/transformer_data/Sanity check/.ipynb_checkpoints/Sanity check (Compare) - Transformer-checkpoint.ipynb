{
 "cells": [
  {
   "cell_type": "code",
   "execution_count": 1,
   "id": "c8649ce4",
   "metadata": {},
   "outputs": [],
   "source": [
    "import pandas as pd\n",
    "import os\n",
    "import glob\n",
    "import numpy as np\n",
    "import matplotlib.pyplot as plt"
   ]
  },
  {
   "cell_type": "code",
   "execution_count": 11,
   "id": "a8e67ae3",
   "metadata": {},
   "outputs": [],
   "source": [
    "# Convert Original.csv and Processed.csv to numpy array\n",
    "pro_csv = pd.read_csv('Processed.csv')\n",
    "ori_csv = pd.read_csv('Original.csv')\n",
    "\n",
    "pro = pro_csv.to_numpy()\n",
    "ori = ori_csv.to_numpy()\n"
   ]
  },
  {
   "cell_type": "code",
   "execution_count": 16,
   "id": "867457f7",
   "metadata": {},
   "outputs": [
    {
     "data": {
      "text/plain": [
       "Text(0.9836, 100, '0')"
      ]
     },
     "execution_count": 16,
     "metadata": {},
     "output_type": "execute_result"
    },
    {
     "data": {
      "image/png": "[encoded data removed]",
      "text/plain": [
       "<Figure size 432x288 with 1 Axes>"
      ]
     },
     "metadata": {
      "needs_background": "light"
     },
     "output_type": "display_data"
    }
   ],
   "source": [
    "compare=(ori-pro)>=0\n",
    "correct=int(np.sum(compare))\n",
    "incorrect= int(pro.shape[0] - correct)\n",
    "#plt.figure(figsize=(25, 6), dpi=80)\n",
    "fig=plt.bar(['Correct','Incorrect'],[correct,incorrect])\n",
    "plt.ylabel('Number of note/chord sequences')\n",
    "plt.ylim(0,5500)\n",
    "plt.annotate(correct,(-0.07,4700))\n",
    "plt.annotate(incorrect,(0.9836,100))"
   ]
  }
 ],
 "metadata": {
  "kernelspec": {
   "display_name": "Python 3",
   "language": "python",
   "name": "python3"
  },
  "language_info": {
   "codemirror_mode": {
    "name": "ipython",
    "version": 3
   },
   "file_extension": ".py",
   "mimetype": "text/x-python",
   "name": "python",
   "nbconvert_exporter": "python",
   "pygments_lexer": "ipython3",
   "version": "3.8.8"
  }
 },
 "nbformat": 4,
 "nbformat_minor": 5
}
